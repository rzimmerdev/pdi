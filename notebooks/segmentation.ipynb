{
 "cells": [
  {
   "cell_type": "code",
   "execution_count": 18,
   "metadata": {
    "pycharm": {
     "name": "#%%\n"
    }
   },
   "outputs": [],
   "source": [
    "import os\n",
    "from random import shuffle\n",
    "\n",
    "import numpy as np\n",
    "import imageio\n",
    "\n",
    "import matplotlib.pyplot as plt\n",
    "\n",
    "from skimage.color import rgb2gray\n",
    "from skimage import filters\n",
    "from skimage.segmentation import clear_border\n",
    "from skimage.morphology import closing, square\n",
    "from skimage.metrics import mean_squared_error\n",
    "\n",
    "from skimage.morphology import disk\n",
    "from skimage.segmentation import watershed\n",
    "from skimage.filters import rank"
   ]
  },
  {
   "cell_type": "code",
   "execution_count": 20,
   "metadata": {
    "collapsed": true
   },
   "outputs": [],
   "source": [
    "def get_images(tiles_dir, amount, rand=False):\n",
    "    \"\"\"Get a list of pairs of images and masks read from within a specific folder\n",
    "\n",
    "    Args:\n",
    "         tiles_dir: Path to directory containing all tiles folders\n",
    "         amount: Total amount of images to read from the dataset folders\n",
    "         rand: Whether to shuffle or not pairs after reading them\n",
    "    \"\"\"\n",
    "    images = []\n",
    "    tiles = os.listdir(tiles_dir)\n",
    "\n",
    "    # Iterate over all tiles of images\n",
    "    for tile in tiles:\n",
    "        if amount < 0:\n",
    "                break\n",
    "\n",
    "        current_tile = tiles_dir + f\"/{tile}/\"\n",
    "        images_path = current_tile + \"images/\"\n",
    "        mask_path = current_tile + \"masks/\"\n",
    "\n",
    "        # From within a specific tile, read both image and mask and save dict to list\n",
    "        for image_uri in os.listdir(images_path):\n",
    "            img = imageio.imread(images_path + image_uri)\n",
    "            mask = imageio.imread(mask_path + image_uri)\n",
    "\n",
    "            images.append({\"img\": img, \"label\": mask})\n",
    "\n",
    "            amount -= 1\n",
    "\n",
    "    if rand:\n",
    "        shuffle(images)\n",
    "    return images"
   ]
  },
  {
   "cell_type": "code",
   "execution_count": 21,
   "metadata": {
    "pycharm": {
     "name": "#%%\n"
    }
   },
   "outputs": [],
   "source": [
    "def apply_threshold(image):\n",
    "    \"\"\"Apply Otsu thresholding filter to given image, returning the generated binary mask\"\"\"\n",
    "    grayscale = rgb2gray(image)\n",
    "    thresh = filters.threshold_otsu(grayscale)\n",
    "    binary = closing(grayscale > thresh, square(3))\n",
    "    binary = clear_border(binary)\n",
    "\n",
    "    return binary"
   ]
  },
  {
   "cell_type": "code",
   "execution_count": 22,
   "metadata": {
    "collapsed": false,
    "pycharm": {
     "name": "#%%\n"
    }
   },
   "outputs": [],
   "source": [
    "def region_segmentation(image):\n",
    "    \"\"\"Apply Watershed region segmentation algorithm, returning the generated gradient for each pixel\"\"\"\n",
    "    gray = rgb2gray(image)\n",
    "    # markers = rank.gradient(gray , disk(5)) < 10\n",
    "    # markers = ndi.label(markers)[0]\n",
    "\n",
    "    gradient = rank.gradient(gray, disk(5))\n",
    "\n",
    "    gradient_filtered = np.copy(gradient)\n",
    "    gradient_filtered[gradient > 128] = 255\n",
    "    gradient_filtered[gradient <= 128] = 0\n",
    "\n",
    "    return gradient_filtered"
   ]
  },
  {
   "cell_type": "code",
   "execution_count": 23,
   "metadata": {
    "pycharm": {
     "name": "#%%\n"
    }
   },
   "outputs": [],
   "source": [
    "def visualise_semantic(images):\n",
    "    \"\"\"Save dict of images (original image, otsu prediction, watershed prediction and true label) to the predictions folder\"\"\"\n",
    "    for idx, semantic in enumerate(images):\n",
    "\n",
    "        plt.subplot(141)\n",
    "        plt.title(\"Original\")\n",
    "        plt.imshow(semantic[\"img\"])\n",
    "\n",
    "        plt.subplot(142)\n",
    "        plt.title(\"Region\")\n",
    "        plt.imshow(semantic[\"segmentation\"][0], cmap=plt.cm.gray)\n",
    "\n",
    "        plt.subplot(143)\n",
    "        plt.title(\"Final\")\n",
    "        plt.imshow(semantic[\"segmentation\"][1], cmap=plt.cm.gray)\n",
    "\n",
    "        plt.subplot(144)\n",
    "        plt.title(\"Label\")\n",
    "        plt.imshow(semantic[\"label\"], cmap=plt.cm.gray)\n",
    "        plt.savefig(f\"predictions/filters/img_{idx}.png\")\n",
    "\n",
    "        print(\"Error: \", mean_squared_error(semantic[\"img\"], semantic[\"label\"]))"
   ]
  },
  {
   "cell_type": "code",
   "execution_count": 24,
   "metadata": {
    "pycharm": {
     "name": "#%%\n"
    }
   },
   "outputs": [],
   "source": [
    "def segment_images(images):\n",
    "    \"\"\"Segment a list of images using the Otsu and Watershed algorithms, returning dictionaries containing original input and segmented masks\"\"\"\n",
    "    semantic_segmentation = []\n",
    "    for image in images:\n",
    "        otsu = apply_threshold(image['img'])\n",
    "        region = region_segmentation(image['img'])\n",
    "\n",
    "        # Use the Otsu threshold as the final mask, as it outperformed the Watershed Gradient values\n",
    "        final = np.ones((image['img'].shape[0], image['img'].shape[1]))\n",
    "        final[region != 255] = 0\n",
    "        semantic_segmentation.append({\"img\": image['img'], \"segmentation\": [otsu, region, final], \"label\": image['label']})\n",
    "    return semantic_segmentation"
   ]
  },
  {
   "cell_type": "code",
   "execution_count": 28,
   "metadata": {
    "pycharm": {
     "name": "#%%\n"
    }
   },
   "outputs": [
    {
     "name": "stderr",
     "output_type": "stream",
     "text": [
      "/tmp/ipykernel_17150/1396509551.py:11: DeprecationWarning: Starting with ImageIO v3 the behavior of this function will switch to that of iio.v3.imread. To keep the current behavior (and make this warning dissapear) use `import imageio.v2 as imageio` or call `imageio.v2.imread` directly.\n",
      "  img = imageio.imread(images_path + image_uri)\n",
      "/tmp/ipykernel_17150/1396509551.py:12: DeprecationWarning: Starting with ImageIO v3 the behavior of this function will switch to that of iio.v3.imread. To keep the current behavior (and make this warning dissapear) use `import imageio.v2 as imageio` or call `imageio.v2.imread` directly.\n",
      "  mask = imageio.imread(mask_path + image_uri)\n",
      "/tmp/ipykernel_17150/1462828468.py:5: UserWarning: Possible precision loss converting image of type float64 to uint8 as required by rank filters. Convert manually using skimage.util.img_as_ubyte to silence this warning.\n",
      "  region = region_segmentation(image['img'])\n"
     ]
    },
    {
     "name": "stdout",
     "output_type": "stream",
     "text": [
      "Error:  30454.56835428874\n",
      "Error:  21397.218485514324\n",
      "Error:  32619.386789957684\n",
      "Error:  19608.85727437337\n",
      "Error:  23790.02623494466\n",
      "Error:  39451.26674397787\n",
      "Error:  18817.373504638672\n",
      "Error:  43037.14805603027\n",
      "Error:  39261.79825846354\n",
      "Error:  25878.72137959798\n",
      "Error:  38659.26191711426\n",
      "Error:  30158.956415812176\n",
      "Error:  44475.296971639\n",
      "Error:  23752.703872680664\n",
      "Error:  17787.15918477376\n",
      "Error:  31283.289240519207\n",
      "Error:  21594.594039916992\n",
      "Error:  13404.027221679688\n",
      "Error:  6015.613296508789\n",
      "Error:  24131.075083414715\n",
      "Error:  9533.158767700195\n",
      "Error:  14273.200780232748\n",
      "Error:  8407.539677937826\n",
      "Error:  5628.781341552734\n",
      "Error:  6238.806376139323\n",
      "Error:  8352.023264567057\n",
      "Error:  8976.622904459635\n",
      "Error:  20799.260452270508\n",
      "Error:  10713.875244140625\n",
      "Error:  19321.761540730793\n",
      "Error:  24618.708913167316\n",
      "Error:  7534.708312988281\n",
      "Error:  25719.047083536785\n",
      "Error:  14164.97533162435\n",
      "Error:  15346.82772318522\n",
      "Error:  24286.170288085938\n",
      "Error:  19339.27453104655\n",
      "Error:  2878.330322265625\n",
      "Error:  26726.88464864095\n",
      "Error:  24463.6077931722\n",
      "Error:  12315.881556193033\n",
      "Error:  26084.851043701172\n",
      "Error:  11859.930541992188\n",
      "Error:  7554.548126220703\n",
      "Error:  24683.28514099121\n",
      "Error:  30028.105122884113\n",
      "Error:  11104.666178385416\n",
      "Error:  11998.639943440756\n",
      "Error:  2921.1145782470703\n",
      "Error:  16725.707173665363\n",
      "Error:  36694.93221537272\n",
      "Error:  16614.99695332845\n",
      "Error:  37307.379750569664\n",
      "Error:  37109.868169148765\n",
      "Error:  11995.547993977865\n",
      "Error:  13477.513498942057\n",
      "Error:  18049.700236002605\n",
      "Error:  13827.178807576498\n",
      "Error:  11512.802403767904\n",
      "Error:  13091.921122233072\n",
      "Error:  14887.6023050944\n",
      "Error:  14838.61905415853\n",
      "Error:  12192.62555440267\n",
      "Error:  24751.984135945637\n",
      "Error:  19694.593627929688\n",
      "Error:  9876.14673868815\n",
      "Error:  9852.316645304361\n",
      "Error:  25414.918579101562\n",
      "Error:  17660.533142089844\n",
      "Error:  24881.212320963543\n"
     ]
    },
    {
     "data": {
      "text/plain": "<Figure size 432x288 with 4 Axes>",
      "image/png": "[encoded data removed]"
     },
     "metadata": {
      "needs_background": "light"
     },
     "output_type": "display_data"
    }
   ],
   "source": [
    "def main():\n",
    "    \"\"\"Read images from dataset directory, segment using Otsu and Watershed and then save to predictions folder\"\"\"\n",
    "    images = get_images(\"data/processed\", 70, True)\n",
    "    semantic_segmentation = segment_images(images)\n",
    "    visualise_semantic(semantic_segmentation)\n",
    "\n",
    "if __name__ == \"__main__\":\n",
    "    main()"
   ]
  }
 ],
 "metadata": {
  "kernelspec": {
   "display_name": "Python 3.9.9 64-bit",
   "language": "python",
   "name": "python3"
  },
  "language_info": {
   "codemirror_mode": {
    "name": "ipython",
    "version": 3
   },
   "file_extension": ".py",
   "mimetype": "text/x-python",
   "name": "python",
   "nbconvert_exporter": "python",
   "pygments_lexer": "ipython3",
   "version": "3.9.9"
  },
  "vscode": {
   "interpreter": {
    "hash": "b0fa6594d8f4cbf19f97940f81e996739fb7646882a419484c72d19e05852a7e"
   }
  }
 },
 "nbformat": 4,
 "nbformat_minor": 1
}