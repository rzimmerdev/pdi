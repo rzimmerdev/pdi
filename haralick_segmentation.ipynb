{
 "cells": [
  {
   "cell_type": "code",
   "execution_count": 3,
   "metadata": {
    "collapsed": true
   },
   "outputs": [],
   "source": [
    "import numpy as np\n",
    "import imageio\n",
    "import pandas as pd"
   ]
  },
  {
   "cell_type": "code",
   "execution_count": 36,
   "outputs": [],
   "source": [
    "from haralick import get_descriptors, opening_filter, closing_filter, binarize, binary_mask"
   ],
   "metadata": {
    "collapsed": false,
    "pycharm": {
     "name": "#%%\n"
    }
   }
  },
  {
   "cell_type": "code",
   "execution_count": 19,
   "outputs": [],
   "source": [
    "def euclidean(point_1: np.ndarray, point_2: np.ndarray):\n",
    "    \"\"\"Simple method for calculating the euclidean distance between two points, with type np.ndarray.\"\"\"\n",
    "    return np.sqrt(np.sum(np.square(point_1 - point_2)))\n",
    "\n",
    "\n",
    "def grayscale(image: np.ndarray) -> np.ndarray:\n",
    "    \"\"\"Uses luminance weights to transform RGB channel to greyscale, by\n",
    "    taking the dot product between the channel and the weights.\"\"\"\n",
    "    return np.dot(image[:, :, 0:3], [0.299, 0.587, 0.114]).astype(np.uint8)"
   ],
   "metadata": {
    "collapsed": false,
    "pycharm": {
     "name": "#%%\n"
    }
   }
  },
  {
   "cell_type": "code",
   "execution_count": 29,
   "outputs": [],
   "source": [
    "def convolve(image, kernel=None):\n",
    "    if not kernel.shape:\n",
    "        return\n",
    "\n",
    "    padded = np.pad(image, kernel.shape, 'edge')\n",
    "    for i in range(image.shape[0]):\n",
    "        for j in range(image.shape[1]):\n",
    "            window = (i + kernel.shape[0], j + kernel.shape[1])\n",
    "            padded[i:window[0], j:window[1]].shape"
   ],
   "metadata": {
    "collapsed": false,
    "pycharm": {
     "name": "#%%\n"
    }
   }
  },
  {
   "cell_type": "code",
   "execution_count": 34,
   "outputs": [],
   "source": [
    "def generate_filters(image, mask, total_filters, threshold, is_opening, q_value):\n",
    "    gray = grayscale(image)\n",
    "    threshold = binarize(gray, threshold)\n",
    "\n",
    "    morphological = opening_filter(threshold) if is_opening else closing_filter(threshold)\n",
    "    masks = binary_mask(gray, morphological)\n",
    "\n",
    "    data = {'label': 1, 'descriptors': get_descriptors(masks, q_value)}\n",
    "    print(data)"
   ],
   "metadata": {
    "collapsed": false,
    "pycharm": {
     "name": "#%%\n"
    }
   }
  },
  {
   "cell_type": "code",
   "execution_count": 44,
   "outputs": [
    {
     "name": "stdout",
     "output_type": "stream",
     "text": [
      "(644, 797, 3)\n",
      "{'label': 1, 'descriptors': array([8.62005525e-01, 6.93745410e+02, 7.43064991e-01, 4.05200527e+02,\n",
      "       4.53934246e+00, 8.81800563e-01, 8.73069052e-01, 1.57558203e+00,\n",
      "       1.09204726e-01, 3.73330047e+04, 1.22877221e-02, 1.05154468e+03,\n",
      "       1.54926017e+01, 2.68009644e-01, 2.04883398e-01, 8.11635256e+00])}\n"
     ]
    }
   ],
   "source": [
    "def test_convolve():\n",
    "    # convolve(gray, kernel=kernel)\n",
    "    image = imageio.imread(\"data/original/1/images/image_part_001.jpg\").astype(np.float32)\n",
    "\n",
    "    print(image.shape)\n",
    "\n",
    "    generate_filters(image, [], 1, 128, True, [0, 1])\n",
    "\n",
    "test_convolve()"
   ],
   "metadata": {
    "collapsed": false,
    "pycharm": {
     "name": "#%%\n"
    }
   }
  },
  {
   "cell_type": "code",
   "execution_count": 46,
   "outputs": [
    {
     "data": {
      "text/plain": "array([[[ 60,  16, 152]]])"
     },
     "execution_count": 46,
     "metadata": {},
     "output_type": "execute_result"
    }
   ],
   "source": [
    "np.array([[]])"
   ],
   "metadata": {
    "collapsed": false,
    "pycharm": {
     "name": "#%%\n"
    }
   }
  },
  {
   "cell_type": "code",
   "execution_count": 48,
   "outputs": [
    {
     "data": {
      "text/plain": "0.17513725490196078"
     },
     "execution_count": 48,
     "metadata": {},
     "output_type": "execute_result"
    }
   ],
   "source": [
    "np.dot(np.array([0.299, 0.587, 0.114]), np.array([60, 16, 152])) / 255"
   ],
   "metadata": {
    "collapsed": false,
    "pycharm": {
     "name": "#%%\n"
    }
   }
  },
  {
   "cell_type": "code",
   "execution_count": null,
   "outputs": [],
   "source": [],
   "metadata": {
    "collapsed": false,
    "pycharm": {
     "name": "#%%\n"
    }
   }
  }
 ],
 "metadata": {
  "kernelspec": {
   "display_name": "Python 3",
   "language": "python",
   "name": "python3"
  },
  "language_info": {
   "codemirror_mode": {
    "name": "ipython",
    "version": 2
   },
   "file_extension": ".py",
   "mimetype": "text/x-python",
   "name": "python",
   "nbconvert_exporter": "python",
   "pygments_lexer": "ipython2",
   "version": "2.7.6"
  }
 },
 "nbformat": 4,
 "nbformat_minor": 0
}