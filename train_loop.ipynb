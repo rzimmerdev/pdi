{
 "nbformat": 4,
 "nbformat_minor": 0,
 "metadata": {
  "colab": {
   "name": "Dataset_and_Dataloader.ipynb",
   "provenance": [],
   "collapsed_sections": []
  },
  "kernelspec": {
   "name": "python3",
   "display_name": "Python 3"
  },
  "language_info": {
   "name": "python"
  },
  "gpuClass": "standard"
 },
 "cells": [
  {
   "cell_type": "code",
   "execution_count": 1,
   "metadata": {
    "id": "PKlwi7XDpKsy",
    "colab": {
     "base_uri": "https://localhost:8080/"
    },
    "outputId": "ea4b3379-c435-4fc4-a91b-267d2e6214be"
   },
   "outputs": [
    {
     "name": "stdout",
     "output_type": "stream",
     "text": [
      "/bin/bash: gdown: command not found\r\n"
     ]
    }
   ],
   "source": [
    "!gdown --id '1DvrMCxzJrqKKN-rU-klk7_XikfhaCr3j'"
   ]
  },
  {
   "cell_type": "code",
   "source": [
    "!unzip \"pdi-2022-main.zip\" -d \"./\""
   ],
   "metadata": {
    "id": "ZZbfYST3tthg"
   },
   "execution_count": 2,
   "outputs": [
    {
     "name": "stdout",
     "output_type": "stream",
     "text": [
      "unzip:  cannot find or open pdi-2022-main.zip, pdi-2022-main.zip.zip or pdi-2022-main.zip.ZIP.\r\n"
     ]
    }
   ]
  },
  {
   "cell_type": "code",
   "source": [
    "import torch\n",
    "\n",
    "from torch import nn\n",
    "from torch.utils.data import Dataset\n",
    "from torchvision import datasets\n",
    "from torchvision.transforms import ToTensor\n",
    "from torchvision.io import read_image, ImageReadMode\n",
    "from torch.utils.data import DataLoader, random_split\n",
    "\n",
    "import os"
   ],
   "metadata": {
    "id": "_Wr0VYq430pa"
   },
   "execution_count": 1,
   "outputs": []
  },
  {
   "cell_type": "code",
   "source": [
    "PROCESSED_IMAGES_PATH = 'data/processed'\n",
    "ORIGINAL_IMAGES_PATH = 'data/original'"
   ],
   "metadata": {
    "id": "LwdBe3me2e71"
   },
   "execution_count": 2,
   "outputs": []
  },
  {
   "cell_type": "markdown",
   "source": [
    "# Criação do Dataset"
   ],
   "metadata": {
    "id": "rZ71MkJW3Ebp"
   }
  },
  {
   "cell_type": "code",
   "source": [
    "def get_data(path):\n",
    "    paths = []\n",
    "    tiles = os.listdir(path)\n",
    "    for tile in range(1, len(tiles) + 1):\n",
    "        images = os.listdir(f\"{path}/{tile}/images\")\n",
    "        for image in images:\n",
    "            paths.append({\"image\": f\"{path}/{tile}/images/{image}\", \"label\": f\"{path}/{tile}/masks/{image}\"})\n",
    "    return paths"
   ],
   "metadata": {
    "id": "BlOReYVVFf-8"
   },
   "execution_count": 3,
   "outputs": []
  },
  {
   "cell_type": "code",
   "source": [
    "class ProcessedImagesDataset(Dataset):\n",
    "    def __init__(self, img_dir):\n",
    "        self.data = get_data(img_dir)\n",
    "\n",
    "    def __len__(self):\n",
    "        return len(self.data)\n",
    "\n",
    "    def __getitem__(self, idx):\n",
    "        image_path = self.data[idx][\"image\"]\n",
    "        mask_path = self.data[idx][\"label\"]\n",
    "        image, mask = read_image(image_path), read_image(mask_path, ImageReadMode.GRAY)\n",
    "\n",
    "        return image, mask"
   ],
   "metadata": {
    "id": "GX1Up7C23v9n"
   },
   "execution_count": 4,
   "outputs": []
  },
  {
   "cell_type": "markdown",
   "source": [
    "# Treino"
   ],
   "metadata": {
    "id": "d9ng1GaUQHQJ"
   }
  },
  {
   "cell_type": "code",
   "source": [
    "device = torch.device(\"cuda:0\" if torch.cuda.is_available() else \"cpu\")"
   ],
   "metadata": {
    "id": "bed9-XL_-CXX"
   },
   "execution_count": 5,
   "outputs": []
  },
  {
   "cell_type": "code",
   "source": [
    "def check_accuracy(loader, model, device):\n",
    "    num_correct = 0\n",
    "    num_pixels = 0\n",
    "    model.eval()\n",
    "    dice_score = 0\n",
    "    with torch.no_grad():\n",
    "        for x, y in loader:\n",
    "            x = x.to(device)\n",
    "            y = y.to(device).unsqueeze(1) # Label doesn't have a channel\n",
    "\n",
    "            preds = torch.sigmoid(model(x))\n",
    "            preds = (preds > 0.5).float()\n",
    "            num_correct += (preds == y).sum()\n",
    "            num_pixels += torch.numel(preds)\n",
    "            dice_score += (2 * (preds * y).sum())/((preds + y).sum() + 1e-8)\n",
    "\n",
    "    print(f\"Dice score: {dice_score/ len(loader)}\")\n",
    "    print(f\"Got {num_correct}/{num_pixels} with accuracy {num_correct*100/num_pixels:.2f}\")"
   ],
   "metadata": {
    "id": "K9sa5cv5oG1J"
   },
   "execution_count": 8,
   "outputs": []
  },
  {
   "cell_type": "code",
   "execution_count": 6,
   "outputs": [],
   "source": [
    "from unet import UNet\n",
    "import torch.optim as optim"
   ],
   "metadata": {
    "collapsed": false,
    "pycharm": {
     "name": "#%%\n"
    }
   }
  },
  {
   "cell_type": "code",
   "source": [
    "\n",
    "def train_fn(loader: DataLoader, model: torch.nn.Module, optimizer: optim.Optimizer, loss_fn, scaler, epochs):\n",
    "    for epoch in range(epochs):\n",
    "        model.train()\n",
    "\n",
    "        batch_loss = 0\n",
    "\n",
    "        for batch_idx, (data, targets) in enumerate(loader):\n",
    "            data = data.to(device, dtype=torch.float32)\n",
    "            targets = targets.to(device, dtype=torch.float32)\n",
    "\n",
    "            assert data.shape[1] == model.n_channels, \\\n",
    "                    f'Network has been defined with {model.n_channels} input channels, ' \\\n",
    "                    f'but loaded images have {data.shape[1]} channels. Please check that ' \\\n",
    "                    'the images are loaded correctly.'\n",
    "\n",
    "            # forward\n",
    "            predictions = model(data)\n",
    "            loss = loss_fn(predictions, targets)\n",
    "            # backward\n",
    "            optimizer.zero_grad()\n",
    "            scaler.scale(loss).backward()\n",
    "            scaler.step(optimizer)\n",
    "            scaler.update()\n",
    "            batch_loss += loss.item()\n",
    "        print (f'Epoch [{epoch+1}/{epochs}], Loss: {batch_loss:.4f}')"
   ],
   "metadata": {
    "id": "FdOr8SITQJfc"
   },
   "execution_count": 10,
   "outputs": []
  },
  {
   "cell_type": "markdown",
   "source": [
    "# Teste"
   ],
   "metadata": {
    "id": "DIqJXW1v8XwL"
   }
  },
  {
   "cell_type": "code",
   "execution_count": 13,
   "outputs": [
    {
     "name": "stdout",
     "output_type": "stream",
     "text": [
      "Epoch [1/10], Loss: -151678.6807\n",
      "Epoch [2/10], Loss: -990355.3747\n",
      "Epoch [3/10], Loss: -2337089.2349\n",
      "Epoch [4/10], Loss: -3508831.0022\n",
      "Epoch [5/10], Loss: -4982051.4751\n",
      "Epoch [6/10], Loss: -6694012.1646\n",
      "Epoch [7/10], Loss: -9926091.8564\n",
      "Epoch [8/10], Loss: -13240439.1667\n",
      "Epoch [9/10], Loss: -15851762.3220\n",
      "Epoch [10/10], Loss: -19395755.5166\n"
     ]
    }
   ],
   "source": [
    "def main():\n",
    "    torch.cuda.empty_cache()\n",
    "    model = UNet(3, 1).to(device=device)\n",
    "    dataset = ProcessedImagesDataset(PROCESSED_IMAGES_PATH)\n",
    "    train_data, test_data = random_split(dataset, [50, 22])\n",
    "    dataloader = DataLoader(train_data, batch_size=1, shuffle=True)\n",
    "    optimizer = optim.RMSprop(model.parameters(), lr=0.001, weight_decay=1e-8, momentum=0.9)\n",
    "    loss_fn = nn.BCEWithLogitsLoss()\n",
    "    grad_scaler = torch.cuda.amp.GradScaler()\n",
    "    epochs = 10\n",
    "    try:\n",
    "        train_fn(dataloader, model, optimizer, loss_fn, grad_scaler, epochs)\n",
    "    except KeyboardInterrupt:\n",
    "        torch.save(model.state_dict(), 'INTERRUPTED.pth')\n",
    "    torch.save(model.state_dict(), 'model.pth')\n",
    "    return model\n",
    "predictor = main()"
   ],
   "metadata": {
    "collapsed": false,
    "pycharm": {
     "name": "#%%\n"
    }
   }
  },
  {
   "cell_type": "code",
   "execution_count": 7,
   "outputs": [
    {
     "name": "stdout",
     "output_type": "stream",
     "text": [
      "torch.Size([3, 256, 256])\n"
     ]
    }
   ],
   "source": [
    "ds = ProcessedImagesDataset(PROCESSED_IMAGES_PATH)\n",
    "print(ds[0][0].shape)"
   ],
   "metadata": {
    "collapsed": false,
    "pycharm": {
     "name": "#%%\n"
    }
   }
  },
  {
   "cell_type": "code",
   "execution_count": 8,
   "outputs": [
    {
     "data": {
      "text/plain": "torch.Size([1, 3, 256, 256])"
     },
     "execution_count": 8,
     "metadata": {},
     "output_type": "execute_result"
    }
   ],
   "source": [
    "image = torch.reshape(ds[0][0], (1, 3, 256, 256)).to(device, dtype=torch.float32)\n",
    "image.shape"
   ],
   "metadata": {
    "collapsed": false,
    "pycharm": {
     "name": "#%%\n"
    }
   }
  },
  {
   "cell_type": "code",
   "execution_count": 14,
   "outputs": [],
   "source": [
    "import matplotlib.pyplot as plt\n",
    "import numpy as np"
   ],
   "metadata": {
    "collapsed": false,
    "pycharm": {
     "name": "#%%\n"
    }
   }
  },
  {
   "cell_type": "code",
   "execution_count": 29,
   "outputs": [
    {
     "name": "stdout",
     "output_type": "stream",
     "text": [
      "[[0.1748391  0.26816243 0.28170678 ... 0.19484171 0.16776124 0.12641488]\n",
      " [0.2534455  0.4068244  0.41699365 ... 0.26865417 0.22978316 0.16241205]\n",
      " [0.28608567 0.4501809  0.4313759  ... 0.26810268 0.23389491 0.16669525]\n",
      " ...\n",
      " [0.11004706 0.12140052 0.07458229 ... 0.7967183  0.8124645  0.6150861 ]\n",
      " [0.115909   0.13524736 0.09145052 ... 0.6974795  0.6625122  0.49037853]\n",
      " [0.095373   0.1079872  0.08282312 ... 0.446599   0.40898624 0.30473235]]\n"
     ]
    },
    {
     "data": {
      "text/plain": "<Figure size 432x288 with 1 Axes>",
      "image/png": "[encoded data removed]"
     },
     "metadata": {
      "needs_background": "light"
     },
     "output_type": "display_data"
    }
   ],
   "source": [
    "with torch.no_grad():\n",
    "    predictor = UNet(3, 1).cuda()\n",
    "    predictor.load_state_dict(torch.load(\"model.pth\"))\n",
    "    predictor.eval()\n",
    "    predictions = predictor(image)[0].cpu()\n",
    "    predictions = np.transpose(predictions, axes=[1, 2, 0])\n",
    "    predictions = np.array(predictions.reshape(predictions.shape[0], predictions.shape[1]))\n",
    "    predictions = (predictions - np.min(predictions)) / (np.max(predictions) - np.min(predictions))\n",
    "    plt.imshow(predictions, cmap=\"gray\")"
   ],
   "metadata": {
    "collapsed": false,
    "pycharm": {
     "name": "#%%\n"
    }
   }
  },
  {
   "cell_type": "code",
   "execution_count": null,
   "outputs": [],
   "source": [],
   "metadata": {
    "collapsed": false,
    "pycharm": {
     "name": "#%%\n"
    }
   }
  }
 ]
}